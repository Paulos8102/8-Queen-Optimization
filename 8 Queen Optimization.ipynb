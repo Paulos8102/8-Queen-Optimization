{
 "cells": [
  {
   "cell_type": "markdown",
   "source": [
    "                Name    : Paul Jabez Talakayala\t\t\t\t\r\n",
    "                Reg No. : 195002079\r\n",
    "                UIT1505 - Artificial Intelligence Concepts and Algorithms\r\n",
    "\r\n",
    "                                                CODING ASSIGNMENT 1"
   ],
   "metadata": {}
  },
  {
   "cell_type": "markdown",
   "source": [
    "# 8 QUEEN OPTIMIZATION\r\n",
    "\r\n",
    "Question 3\r\n",
    "\r\n",
    "Using Simulated Annealing"
   ],
   "metadata": {}
  },
  {
   "cell_type": "markdown",
   "source": [
    "## 8 Queen Optimization:\r\n",
    "\r\n",
    "The eight queen problem consists in positioning 8 queens in an 8*8 table board without any of them being on the line of attack between each other. Queens can move horizontally, diagonally and vertically.\r\n",
    "\r\n",
    "## Simulated Annealing:\r\n",
    "\r\n",
    "The Simulated Annealing (SA) algorithm unlike algorithms like the Hill Climbing algorithm where the intent is to only improve the optimization, SA allows for more exploration. The idea is that with this exploration it’s more likely to reach a global optima rather than a local optima.\r\n",
    "\r\n",
    "The term “annealing” is a term used in mettalurgy where the objective is to lower and increase the temperature of a metal. The process allows for the molecules to regroupe and get closer every time so that the metal becomes harder. The analogy is applied on the SA algorithm by getting closer to a solution, going farther from it by doing exploration and getting closer again to an even better solution.\r\n"
   ],
   "metadata": {}
  },
  {
   "cell_type": "code",
   "execution_count": 1,
   "source": [
    "from datetime import datetime\r\n",
    "import random, time, math\r\n",
    "from copy import deepcopy, copy\r\n",
    "import decimal"
   ],
   "outputs": [],
   "metadata": {}
  },
  {
   "cell_type": "markdown",
   "source": [
    "Importing time and random libraries to calculate the elasped time and to randomly move the positions of the queens"
   ],
   "metadata": {}
  },
  {
   "cell_type": "markdown",
   "source": [
    "## Declaring and Defining the class to create the Chess board"
   ],
   "metadata": {}
  },
  {
   "cell_type": "code",
   "execution_count": 2,
   "source": [
    "class Board:\r\n",
    "    def __init__(self, queen_count=8):\r\n",
    "        self.queen_count = queen_count\r\n",
    "        self.reset()\r\n",
    "\r\n",
    "    def reset(self):\r\n",
    "        self.queens = [-1 for i in range(0, self.queen_count)]\r\n",
    "\r\n",
    "        for i in range(0, self.queen_count):\r\n",
    "            self.queens[i] = random.randint(0, self.queen_count - 1)\r\n",
    "\r\n",
    "    @staticmethod\r\n",
    "    def calculateCostWithQueens(queens):\r\n",
    "        threat = 0\r\n",
    "        queen_count = len(queens)\r\n",
    "\r\n",
    "        for queen in range(0, queen_count):\r\n",
    "            for next_queen in range(queen+1, queen_count):\r\n",
    "                if queens[queen] == queens[next_queen] or abs(queen - next_queen) == abs(queens[queen] - queens[next_queen]):\r\n",
    "                    threat += 1\r\n",
    "\r\n",
    "        return threat\r\n",
    "\r\n",
    "    @staticmethod\r\n",
    "    def toString(queens):\r\n",
    "        board_string = \"\"\r\n",
    "\r\n",
    "        for row, col in enumerate(queens):\r\n",
    "            board_string += \"(%s, %s)\\n\" % (row, col)\r\n",
    "\r\n",
    "        return board_string\r\n",
    "\r\n",
    "    def calculateCost(self):\r\n",
    "        threat = 0\r\n",
    "\r\n",
    "        for queen in range(0, self.queen_count):\r\n",
    "            for next_queen in range(queen+1, self.queen_count):\r\n",
    "                if self.queens[queen] == self.queens[next_queen] or abs(queen - next_queen) == abs(self.queens[queen] - self.queens[next_queen]):\r\n",
    "                    threat += 1\r\n",
    "\r\n",
    "        return threat    \r\n",
    "\r\n",
    "    #Calculating the movement cost\r\n",
    "\r\n",
    "    def getLowerCostBoard(self):\r\n",
    "        displacement_count = 0\r\n",
    "        temp_queens = self.queens\r\n",
    "        lowest_cost = self.calculateCost(temp_queens)\r\n",
    "\r\n",
    "        for i in range(0, self.queen_count):\r\n",
    "            temp_queens[i] = (temp_queens[i] + 1) % (self.queen_count - 1)\r\n",
    "\r\n",
    "            for j in range(queen + 1, self.queen_count):\r\n",
    "                temp_queens[j] = (temp_queens[j] + 1) % (self.queen_count - 1)\r\n",
    "\r\n",
    "    #Alloting queens positions over the board\r\n",
    "\r\n",
    "    def __str__(self):\r\n",
    "        board_string = \"\"\r\n",
    "\r\n",
    "        for row, col in enumerate(self.queens):\r\n",
    "            board_string += \"(%s, %s)\\n\" % (row, col)\r\n",
    "\r\n",
    "        return board_string"
   ],
   "outputs": [],
   "metadata": {}
  },
  {
   "cell_type": "markdown",
   "source": [
    "## Declaring and Defining the class which will implement the Simulated Annealing Algorithm over the board"
   ],
   "metadata": {}
  },
  {
   "cell_type": "code",
   "execution_count": 3,
   "source": [
    "class SimulatedAnnealing:\r\n",
    "    def __init__(self, board):\r\n",
    "        self.elapsedTime = 0;\r\n",
    "        self.board = board\r\n",
    "        self.temperature = 4000\r\n",
    "        self.sch = 0.99\r\n",
    "        self.startTime = datetime.now()\r\n",
    "\r\n",
    "    def run(self):\r\n",
    "        board = self.board\r\n",
    "        board_queens = self.board.queens[:]\r\n",
    "        solutionFound = False\r\n",
    "\r\n",
    "        for k in range(0, 170000):\r\n",
    "            self.temperature *= self.sch\r\n",
    "            board.reset()\r\n",
    "            successor_queens = board.queens[:]\r\n",
    "            dw = Board.calculateCostWithQueens(successor_queens) - Board.calculateCostWithQueens(board_queens)\r\n",
    "            exp = decimal.Decimal(decimal.Decimal(math.e) ** (decimal.Decimal(-dw) * decimal.Decimal(self.temperature)))\r\n",
    "\r\n",
    "            if dw > 0 or random.uniform(0, 1) < exp:\r\n",
    "                board_queens = successor_queens[:]\r\n",
    "\r\n",
    "            if Board.calculateCostWithQueens(board_queens) == 0:\r\n",
    "                print(\"Solution:\")\r\n",
    "                print(Board.toString(board_queens))\r\n",
    "                self.elapsedTime = self.getElapsedTime()\r\n",
    "                print(\"Success, Elapsed Time: %sms\" % (str(self.elapsedTime)))\r\n",
    "                solutionFound = True\r\n",
    "                break\r\n",
    "\r\n",
    "        if solutionFound == False:\r\n",
    "            self.elapsedTime = self.getElapsedTime()\r\n",
    "            print(\"Unsuccessful, Elapsed Time: %sms\" % (str(self.elapsedTime)))\r\n",
    "\r\n",
    "        return self.elapsedTime\r\n",
    "\r\n",
    "    def getElapsedTime(self):       #Simple method to calculate the elapsed time\r\n",
    "        endTime = datetime.now()\r\n",
    "        elapsedTime = (endTime - self.startTime).microseconds / 1000\r\n",
    "        return elapsedTime"
   ],
   "outputs": [],
   "metadata": {}
  },
  {
   "cell_type": "code",
   "execution_count": 4,
   "source": [
    "if __name__ == '__main__':\r\n",
    "    board = Board()\r\n",
    "    print(\"Board:\")\r\n",
    "    print(board)\r\n",
    "    SimulatedAnnealing(board).run()"
   ],
   "outputs": [
    {
     "output_type": "stream",
     "name": "stdout",
     "text": [
      "Board:\n",
      "(0, 0)\n",
      "(1, 0)\n",
      "(2, 1)\n",
      "(3, 1)\n",
      "(4, 7)\n",
      "(5, 5)\n",
      "(6, 2)\n",
      "(7, 6)\n",
      "\n",
      "Solution:\n",
      "(0, 3)\n",
      "(1, 5)\n",
      "(2, 0)\n",
      "(3, 4)\n",
      "(4, 1)\n",
      "(5, 7)\n",
      "(6, 2)\n",
      "(7, 6)\n",
      "\n",
      "Success, Elapsed Time: 995.405ms\n"
     ]
    }
   ],
   "metadata": {}
  }
 ],
 "metadata": {
  "kernelspec": {
   "name": "python3",
   "display_name": "Python 3.9.0 64-bit"
  },
  "language_info": {
   "codemirror_mode": {
    "name": "ipython",
    "version": 3
   },
   "file_extension": ".py",
   "mimetype": "text/x-python",
   "name": "python",
   "nbconvert_exporter": "python",
   "pygments_lexer": "ipython3",
   "version": "3.9.0"
  },
  "interpreter": {
   "hash": "a235fd917bbc973ed89cbd63be3ee2e83072a69c854196aa62155d7a2601018d"
  }
 },
 "nbformat": 4,
 "nbformat_minor": 2
}